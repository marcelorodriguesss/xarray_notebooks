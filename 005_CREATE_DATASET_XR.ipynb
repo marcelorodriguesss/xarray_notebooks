{
 "cells": [
  {
   "cell_type": "code",
   "execution_count": null,
   "id": "e0ab40f6",
   "metadata": {},
   "outputs": [],
   "source": [
    "import cartopy\n",
    "import numpy as np\n",
    "import xarray as xr\n",
    "import pandas as pd\n",
    "import matplotlib.pyplot as plt"
   ]
  },
  {
   "cell_type": "code",
   "execution_count": null,
   "id": "2a8ae27a",
   "metadata": {},
   "outputs": [],
   "source": [
    "from IPython import display"
   ]
  },
  {
   "cell_type": "code",
   "execution_count": null,
   "id": "ca361f89",
   "metadata": {},
   "outputs": [],
   "source": [
    "%matplotlib inline\n",
    "# %matplotlib notebook"
   ]
  },
  {
   "cell_type": "code",
   "execution_count": null,
   "id": "c64af8c2",
   "metadata": {},
   "outputs": [],
   "source": [
    "date_rng = pd.date_range('2020-12-01', periods=31, freq='D')\n",
    "\n",
    "lat = np.arange(-10, -1, 0.5)\n",
    "\n",
    "lon = np.arange(-42, -36, 0.5)"
   ]
  },
  {
   "cell_type": "code",
   "execution_count": null,
   "id": "3b0b62a5",
   "metadata": {},
   "outputs": [],
   "source": [
    "temp = 15 + 8 * np.random.randn(31, 18, 12)\n",
    "\n",
    "precip = 10 * np.random.rand(31, 18, 12)"
   ]
  },
  {
   "cell_type": "code",
   "execution_count": null,
   "id": "524e7a9e",
   "metadata": {},
   "outputs": [],
   "source": [
    "dset = xr.Dataset(\n",
    "    data_vars={\n",
    "        'temperature': (('time', 'lat', 'lon'), temp),\n",
    "        'precipitation': (('time', 'lat', 'lon'), precip),\n",
    "    },\n",
    "    coords={\n",
    "        'time': date_rng,\n",
    "        'lat': lat,\n",
    "        'lon': lon\n",
    "    }\n",
    ")"
   ]
  },
  {
   "cell_type": "code",
   "execution_count": null,
   "id": "a8a521e2",
   "metadata": {},
   "outputs": [],
   "source": [
    "dset"
   ]
  },
  {
   "cell_type": "code",
   "execution_count": null,
   "id": "f4988b72",
   "metadata": {},
   "outputs": [],
   "source": [
    "dset.to_netcdf(\"my_dset_saved_on_disk.nc\")"
   ]
  },
  {
   "cell_type": "code",
   "execution_count": null,
   "id": "9518763f",
   "metadata": {},
   "outputs": [],
   "source": [
    "display.Image(\"https://xarray.pydata.org/en/stable/_images/dataset-diagram.png\")"
   ]
  },
  {
   "cell_type": "code",
   "execution_count": null,
   "id": "81e8bdfa",
   "metadata": {},
   "outputs": [],
   "source": [
    "# dset.temperature\n",
    "my_var = 'temperature'\n",
    "dset[my_var]"
   ]
  },
  {
   "cell_type": "code",
   "execution_count": null,
   "id": "1d267c14",
   "metadata": {},
   "outputs": [],
   "source": [
    "dset['precipitation']"
   ]
  },
  {
   "cell_type": "code",
   "execution_count": null,
   "id": "3b320eb3",
   "metadata": {},
   "outputs": [],
   "source": [
    "dset.data_vars"
   ]
  },
  {
   "cell_type": "code",
   "execution_count": null,
   "id": "8f7fe8e0",
   "metadata": {},
   "outputs": [],
   "source": [
    "dset.coords"
   ]
  },
  {
   "cell_type": "code",
   "execution_count": null,
   "id": "6bc255a9",
   "metadata": {},
   "outputs": [],
   "source": [
    "dset.attrs"
   ]
  },
  {
   "cell_type": "code",
   "execution_count": null,
   "id": "c563d0eb",
   "metadata": {},
   "outputs": [],
   "source": [
    "dset.attrs['title'] = 'Example Attribute'\n",
    "dset.attrs"
   ]
  },
  {
   "cell_type": "code",
   "execution_count": null,
   "id": "b3185310",
   "metadata": {},
   "outputs": [],
   "source": [
    "dset.attrs['Centre'] = 'FUNCEME'\n",
    "dset.attrs"
   ]
  },
  {
   "cell_type": "code",
   "execution_count": null,
   "id": "788e56b0",
   "metadata": {
    "scrolled": true
   },
   "outputs": [],
   "source": [
    "ax = plt.axes(projection=cartopy.crs.PlateCarree())\n",
    "\n",
    "plt.contourf(\n",
    "    dset.lon,\n",
    "    dset.lat,\n",
    "    dset['temperature'].isel(time=0),\n",
    "    60,\n",
    "    transform=cartopy.crs.PlateCarree()\n",
    ")\n",
    "\n",
    "# contorno dos estados\n",
    "\n",
    "states = cartopy.feature.NaturalEarthFeature(\n",
    "    category='cultural',\n",
    "    scale='50m', facecolor='none',\n",
    "    name='admin_1_states_provinces_shp'\n",
    "    )\n",
    "ax.add_feature(states, edgecolor='k')\n",
    "\n",
    "# contorno dos países\n",
    "\n",
    "countries = cartopy.feature.NaturalEarthFeature(\n",
    "    category='cultural',\n",
    "    scale='50m', facecolor='none',\n",
    "    name='admin_0_countries'\n",
    "    )\n",
    "ax.add_feature(countries, edgecolor='k')\n",
    "\n",
    "plt.colorbar(shrink=0.9)\n",
    "\n",
    "plt.show()"
   ]
  },
  {
   "cell_type": "code",
   "execution_count": null,
   "id": "3cc38158",
   "metadata": {},
   "outputs": [],
   "source": [
    "ax = plt.axes(projection=cartopy.crs.PlateCarree())\n",
    "\n",
    "plt.contourf(\n",
    "    dset.lon,\n",
    "    dset.lat,\n",
    "    dset['precipitation'].isel(time=0),\n",
    "    60,\n",
    "    transform=cartopy.crs.PlateCarree(),\n",
    "    cmap=plt.cm.jet\n",
    ")\n",
    "\n",
    "# contorno dos estados\n",
    "\n",
    "states = cartopy.feature.NaturalEarthFeature(\n",
    "    category='cultural',\n",
    "    scale='50m', facecolor='none',\n",
    "    name='admin_1_states_provinces_shp'\n",
    "    )\n",
    "ax.add_feature(states, edgecolor='k')\n",
    "\n",
    "# contorno dos países\n",
    "\n",
    "countries = cartopy.feature.NaturalEarthFeature(\n",
    "    category='cultural',\n",
    "    scale='50m', facecolor='none',\n",
    "    name='admin_0_countries'\n",
    "    )\n",
    "ax.add_feature(countries, edgecolor='k')\n",
    "\n",
    "plt.colorbar(shrink=0.9)\n",
    "\n",
    "plt.show()"
   ]
  },
  {
   "cell_type": "code",
   "execution_count": null,
   "id": "932f01df",
   "metadata": {},
   "outputs": [],
   "source": [
    "dset = dset.rename({\"temperature\": \"t2m\", \"precipitation\": \"pr\"})\n",
    "\n",
    "dset.data_vars"
   ]
  },
  {
   "cell_type": "code",
   "execution_count": null,
   "id": "d8c862cd",
   "metadata": {},
   "outputs": [],
   "source": [
    "dset.t2m"
   ]
  },
  {
   "cell_type": "code",
   "execution_count": null,
   "id": "2f0102f1",
   "metadata": {},
   "outputs": [],
   "source": [
    "dset = dset.drop_vars(\"t2m\")\n",
    "dset"
   ]
  },
  {
   "cell_type": "code",
   "execution_count": null,
   "id": "883000fb",
   "metadata": {},
   "outputs": [],
   "source": [
    "# Qualquer variável que utilize essa dimensão é descartada.\n",
    "dset = dset.drop_dims(\"time\")\n",
    "dset"
   ]
  },
  {
   "cell_type": "markdown",
   "id": "5d97c54a",
   "metadata": {},
   "source": [
    "# Exercício: (20 minutos)"
   ]
  },
  {
   "cell_type": "markdown",
   "id": "65366dea",
   "metadata": {},
   "source": [
    "### 1. Crie um DataArray com valores aleatórios de precipitação, coordenadas geográficas sobre a região Nordeste do Brasil e com frequência diária de apenas um passo de tempo (2021-03-01)."
   ]
  },
  {
   "cell_type": "markdown",
   "id": "35332318",
   "metadata": {},
   "source": [
    "### 2. Crie um DataSet com valores aleatórios de precipitação e temperatura, coordenadas geográficas sobre a região Sul do Brasil e com frequência diária para todo o mês de Março de 2019."
   ]
  }
 ],
 "metadata": {
  "kernelspec": {
   "display_name": "Python 3 (ipykernel)",
   "language": "python",
   "name": "python3"
  },
  "language_info": {
   "codemirror_mode": {
    "name": "ipython",
    "version": 3
   },
   "file_extension": ".py",
   "mimetype": "text/x-python",
   "name": "python",
   "nbconvert_exporter": "python",
   "pygments_lexer": "ipython3",
   "version": "3.7.3"
  }
 },
 "nbformat": 4,
 "nbformat_minor": 5
}
