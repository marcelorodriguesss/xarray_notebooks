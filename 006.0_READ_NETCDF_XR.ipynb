{
 "cells": [
  {
   "cell_type": "code",
   "execution_count": null,
   "id": "8b854b66",
   "metadata": {},
   "outputs": [],
   "source": [
    "import cartopy\n",
    "import xarray as xr\n",
    "import matplotlib.pyplot as plt\n",
    "from pprint import pprint"
   ]
  },
  {
   "cell_type": "code",
   "execution_count": null,
   "id": "ed8a442a",
   "metadata": {},
   "outputs": [],
   "source": [
    "%matplotlib inline"
   ]
  },
  {
   "cell_type": "code",
   "execution_count": null,
   "id": "2b96ddc4",
   "metadata": {},
   "outputs": [],
   "source": [
    "file_in = 'precip.mon.mean.nc'\n",
    "# file_in = 'https://psl.noaa.gov/thredds/dodsC/Datasets/cmap/enh/precip.mon.mean.nc'  # ler direto do tds (opendap)"
   ]
  },
  {
   "cell_type": "code",
   "execution_count": null,
   "id": "0ebbfd96",
   "metadata": {},
   "outputs": [],
   "source": [
    "with xr.open_dataset(file_in) as dset:\n",
    "    print(dset)"
   ]
  },
  {
   "cell_type": "code",
   "execution_count": null,
   "id": "86df0437",
   "metadata": {},
   "outputs": [],
   "source": [
    "print(dset['precip'])"
   ]
  },
  {
   "cell_type": "code",
   "execution_count": null,
   "id": "fe06035e",
   "metadata": {},
   "outputs": [],
   "source": [
    "print(dset['precip'].values)"
   ]
  },
  {
   "cell_type": "code",
   "execution_count": null,
   "id": "9e14132b",
   "metadata": {},
   "outputs": [],
   "source": [
    "print(dset['lat'])"
   ]
  },
  {
   "cell_type": "code",
   "execution_count": null,
   "id": "9cc51ae5",
   "metadata": {},
   "outputs": [],
   "source": [
    "print(dset['lon'])"
   ]
  },
  {
   "cell_type": "code",
   "execution_count": null,
   "id": "4c127cb5",
   "metadata": {},
   "outputs": [],
   "source": [
    "print(dset['time'])"
   ]
  },
  {
   "cell_type": "code",
   "execution_count": null,
   "id": "32f8ca22",
   "metadata": {},
   "outputs": [],
   "source": [
    "pprint(dset.attrs)"
   ]
  },
  {
   "cell_type": "code",
   "execution_count": null,
   "id": "9b23f0a8",
   "metadata": {},
   "outputs": [],
   "source": [
    "# plot \n",
    "\n",
    "fig = plt.figure(figsize=(10, 10))\n",
    "\n",
    "ax = plt.axes(projection=cartopy.crs.PlateCarree())\n",
    "\n",
    "plt.contourf(\n",
    "    dset.lon,\n",
    "    dset.lat,\n",
    "    dset['precip'].isel(time=0),\n",
    "    10,\n",
    "    transform=cartopy.crs.PlateCarree(),\n",
    "    cmap=plt.cm.rainbow\n",
    ")\n",
    "\n",
    "gl = ax.gridlines(\n",
    "    crs=cartopy.crs.PlateCarree(),\n",
    "    draw_labels=True,\n",
    "    linewidth=0.01\n",
    ")\n",
    "\n",
    "gl.top_labels = False\n",
    "gl.right_labels = False\n",
    "\n",
    "# contorno dos estados\n",
    "states = cartopy.feature.NaturalEarthFeature(\n",
    "    category='cultural',\n",
    "    scale='50m', facecolor='none',\n",
    "    name='admin_1_states_provinces_shp'\n",
    ")\n",
    "ax.add_feature(states, edgecolor='k')\n",
    "\n",
    "# contorno dos países\n",
    "countries = cartopy.feature.NaturalEarthFeature(\n",
    "    category='cultural',\n",
    "    scale='50m', facecolor='none',\n",
    "    name='admin_0_countries'\n",
    ")\n",
    "ax.add_feature(countries, edgecolor='k')\n",
    "\n",
    "plt.colorbar(shrink=0.9, orientation='horizontal')\n",
    "\n",
    "plt.show()"
   ]
  },
  {
   "cell_type": "code",
   "execution_count": null,
   "id": "ff18ed63",
   "metadata": {},
   "outputs": [],
   "source": [
    "plt.close()"
   ]
  },
  {
   "cell_type": "code",
   "execution_count": null,
   "id": "7de30c92",
   "metadata": {},
   "outputs": [],
   "source": []
  }
 ],
 "metadata": {
  "kernelspec": {
   "display_name": "Python 3 (ipykernel)",
   "language": "python",
   "name": "python3"
  },
  "language_info": {
   "codemirror_mode": {
    "name": "ipython",
    "version": 3
   },
   "file_extension": ".py",
   "mimetype": "text/x-python",
   "name": "python",
   "nbconvert_exporter": "python",
   "pygments_lexer": "ipython3",
   "version": "3.7.3"
  }
 },
 "nbformat": 4,
 "nbformat_minor": 5
}
