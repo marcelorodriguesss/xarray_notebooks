{
 "cells": [
  {
   "cell_type": "code",
   "execution_count": 1,
   "id": "649ce109",
   "metadata": {},
   "outputs": [],
   "source": [
    "# TODO:\n",
    "# selecionar 1 mês e trimestral\n",
    "# plot boxplot\n",
    "# pontos dentro de uma região com xr\n",
    "# destaca"
   ]
  },
  {
   "cell_type": "code",
   "execution_count": null,
   "id": "9c23db64",
   "metadata": {},
   "outputs": [],
   "source": [
    "# DONE:\n",
    "# Corrigir lons - ok\n",
    "# Corrigir lats - ok\n",
    "# mfdataset pcp - ok\n",
    "# add_cicly     - ok\n",
    "# calcular anomalias - ok\n",
    "# média região com xr - ok\n",
    "# calcular acumulado mensal - ok\n",
    "# NetCDF\n",
    "    # Salvar nc diário - ok\n",
    "    # Salvar nc mensal - ok\n",
    "# PFCT:\n",
    "    # interpolação - ok\n",
    "    # thiessen - ok\n",
    "    # PlotCart - ok\n",
    "    # Correlação - ok\n",
    "    # Viés - ok"
   ]
  },
  {
   "cell_type": "code",
   "execution_count": null,
   "id": "92874098",
   "metadata": {},
   "outputs": [],
   "source": [
    "# fast plot\n",
    "# dset.precip.isel(time=200).plot(\n",
    "#     figsize=(18, 8),\n",
    "#     cmap=mpl.cm.RdYlBu_r,\n",
    "#     levels=60)\n",
    "# ax = plt.axes(projection=cartopy.crs.PlateCarree())\n",
    "# dset.precip.isel(time=200).plot(cmap=mpl.cm.RdYlBu_r, levels=30, aspect=2, size=3)\n",
    "# ax.coastlines()"
   ]
  }
 ],
 "metadata": {
  "kernelspec": {
   "display_name": "Python 3 (ipykernel)",
   "language": "python",
   "name": "python3"
  },
  "language_info": {
   "codemirror_mode": {
    "name": "ipython",
    "version": 3
   },
   "file_extension": ".py",
   "mimetype": "text/x-python",
   "name": "python",
   "nbconvert_exporter": "python",
   "pygments_lexer": "ipython3",
   "version": "3.7.3"
  }
 },
 "nbformat": 4,
 "nbformat_minor": 5
}
