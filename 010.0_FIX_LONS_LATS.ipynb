{
 "cells": [
  {
   "cell_type": "code",
   "execution_count": null,
   "id": "02942d9d",
   "metadata": {},
   "outputs": [],
   "source": [
    "import cartopy\n",
    "import xarray as xr\n",
    "import matplotlib as mpl\n",
    "import matplotlib.pyplot as plt\n",
    "from cartopy.util import add_cyclic_point"
   ]
  },
  {
   "cell_type": "code",
   "execution_count": null,
   "id": "952eb385",
   "metadata": {},
   "outputs": [],
   "source": [
    "file_in = 'precip.mon.mean.enh.nc'"
   ]
  },
  {
   "cell_type": "code",
   "execution_count": null,
   "id": "48043aac",
   "metadata": {},
   "outputs": [],
   "source": [
    "with xr.open_dataset(file_in) as dset:\n",
    "    print(dset)"
   ]
  },
  {
   "cell_type": "code",
   "execution_count": null,
   "id": "48f140cb",
   "metadata": {},
   "outputs": [],
   "source": [
    "# plot function\n",
    "\n",
    "def plot_map(data_array):\n",
    "\n",
    "    fig = plt.figure(figsize=(10, 10))\n",
    "\n",
    "    ax = plt.axes(projection=cartopy.crs.PlateCarree())\n",
    "\n",
    "    plt.contourf(\n",
    "        data_array.lon,\n",
    "        data_array.lat,\n",
    "        data_array,\n",
    "        20,\n",
    "        transform=cartopy.crs.PlateCarree(),\n",
    "        cmap=plt.cm.RdYlBu_r\n",
    "    )\n",
    "\n",
    "    gl = ax.gridlines(\n",
    "        crs=cartopy.crs.PlateCarree(),\n",
    "        draw_labels=True,\n",
    "        linewidth=0.01\n",
    "    )\n",
    "\n",
    "    gl.top_labels = False\n",
    "    gl.right_labels = False\n",
    "\n",
    "    # contorno dos estados\n",
    "    states = cartopy.feature.NaturalEarthFeature(\n",
    "        category='cultural',\n",
    "        scale='50m', facecolor='none',\n",
    "        name='admin_1_states_provinces_shp'\n",
    "    )\n",
    "    ax.add_feature(states, edgecolor='k')\n",
    "\n",
    "    # contorno dos países\n",
    "    countries = cartopy.feature.NaturalEarthFeature(\n",
    "        category='cultural',\n",
    "        scale='50m', facecolor='none',\n",
    "        name='admin_0_countries'\n",
    "    )\n",
    "    ax.add_feature(countries, edgecolor='k')\n",
    "\n",
    "    plt.colorbar(shrink=0.9, orientation='horizontal')\n",
    "\n",
    "    plt.show()"
   ]
  },
  {
   "cell_type": "code",
   "execution_count": null,
   "id": "e23893ad",
   "metadata": {},
   "outputs": [],
   "source": [
    "plot_map(dset['precip'].sel(time='2020-03-01'))"
   ]
  },
  {
   "cell_type": "code",
   "execution_count": null,
   "id": "3d58df23",
   "metadata": {},
   "outputs": [],
   "source": [
    "dset['precip'].shape  # longitudes antes do add_cyclic_point"
   ]
  },
  {
   "cell_type": "code",
   "execution_count": null,
   "id": "e25f83f4",
   "metadata": {},
   "outputs": [],
   "source": [
    "# add_cyclic_point\n",
    "\n",
    "lon = dset.coords['lon']\n",
    "\n",
    "lon_idx = dset['precip'].dims.index('lon')\n",
    "\n",
    "arr_data, arr_lon = add_cyclic_point(\n",
    "    dset['precip'].values, coord=lon, axis=lon_idx\n",
    ")"
   ]
  },
  {
   "cell_type": "code",
   "execution_count": null,
   "id": "643a80c4",
   "metadata": {},
   "outputs": [],
   "source": [
    "arr_data.shape  # mais 1 ponto de grade na longitude!"
   ]
  },
  {
   "cell_type": "code",
   "execution_count": null,
   "id": "7ed07d14",
   "metadata": {},
   "outputs": [],
   "source": [
    "arr_lon"
   ]
  },
  {
   "cell_type": "code",
   "execution_count": null,
   "id": "7762e2e4",
   "metadata": {},
   "outputs": [],
   "source": [
    "new_dset = xr.Dataset(\n",
    "    data_vars={\n",
    "        'precip': (('time', 'lat', 'lon'), arr_data)\n",
    "    },\n",
    "    coords={\n",
    "        'time': dset.time.values,\n",
    "        'lat': dset.lat.values,\n",
    "        'lon': arr_lon\n",
    "    }\n",
    ")"
   ]
  },
  {
   "cell_type": "code",
   "execution_count": null,
   "id": "536404ae",
   "metadata": {},
   "outputs": [],
   "source": [
    "plot_map(new_dset['precip'].sel(time='2020-03-01'))"
   ]
  },
  {
   "cell_type": "markdown",
   "id": "c1fd57a1",
   "metadata": {},
   "source": [
    "### Corrigir longitudes e latitudes"
   ]
  },
  {
   "cell_type": "code",
   "execution_count": null,
   "id": "42493da9",
   "metadata": {},
   "outputs": [],
   "source": [
    "# Voltamos para o dset original!"
   ]
  },
  {
   "cell_type": "code",
   "execution_count": null,
   "id": "079682db",
   "metadata": {},
   "outputs": [],
   "source": [
    "dset"
   ]
  },
  {
   "cell_type": "code",
   "execution_count": null,
   "id": "b12fa593",
   "metadata": {},
   "outputs": [],
   "source": [
    "# inverter latitudes: 90:-90 para -90:90\n",
    "dset = dset.reindex(lat=dset['lat'][::-1])"
   ]
  },
  {
   "cell_type": "code",
   "execution_count": null,
   "id": "a51c7023",
   "metadata": {},
   "outputs": [],
   "source": [
    "dset"
   ]
  },
  {
   "cell_type": "code",
   "execution_count": null,
   "id": "e09603c7",
   "metadata": {},
   "outputs": [],
   "source": [
    "dset.lat"
   ]
  },
  {
   "cell_type": "code",
   "execution_count": null,
   "id": "941f36d4",
   "metadata": {},
   "outputs": [],
   "source": [
    "dset['lon_aux'] = xr.where(\n",
    "    dset['lon'] > 180,\n",
    "    dset['lon'] - 360,\n",
    "    dset['lon']\n",
    ")\n",
    "\n",
    "dset = (\n",
    "    dset\n",
    "        .swap_dims({'lon': 'lon_aux'})\n",
    "        .sel(**{'lon_aux': sorted(dset.lon_aux)})\n",
    "        .drop('lon')\n",
    ")\n",
    "\n",
    "dset = dset.rename({'lon_aux': 'lon'})"
   ]
  },
  {
   "cell_type": "code",
   "execution_count": null,
   "id": "3011e196",
   "metadata": {},
   "outputs": [],
   "source": [
    "dset.lon"
   ]
  },
  {
   "cell_type": "code",
   "execution_count": null,
   "id": "b40a7f58",
   "metadata": {},
   "outputs": [],
   "source": [
    "dset"
   ]
  },
  {
   "cell_type": "code",
   "execution_count": null,
   "id": "c5055f9f",
   "metadata": {},
   "outputs": [],
   "source": [
    "plot_map(dset['precip'].sel(time='2020-03-01'))"
   ]
  },
  {
   "cell_type": "code",
   "execution_count": null,
   "id": "22469625",
   "metadata": {},
   "outputs": [],
   "source": []
  }
 ],
 "metadata": {
  "kernelspec": {
   "display_name": "Python 3 (ipykernel)",
   "language": "python",
   "name": "python3"
  },
  "language_info": {
   "codemirror_mode": {
    "name": "ipython",
    "version": 3
   },
   "file_extension": ".py",
   "mimetype": "text/x-python",
   "name": "python",
   "nbconvert_exporter": "python",
   "pygments_lexer": "ipython3",
   "version": "3.7.3"
  }
 },
 "nbformat": 4,
 "nbformat_minor": 5
}
