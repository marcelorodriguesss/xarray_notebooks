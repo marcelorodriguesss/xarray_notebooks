{
 "cells": [
  {
   "cell_type": "code",
   "execution_count": 1,
   "id": "7d2bdc59",
   "metadata": {},
   "outputs": [],
   "source": [
    "import pygrib"
   ]
  },
  {
   "cell_type": "code",
   "execution_count": 2,
   "id": "9374a7bf",
   "metadata": {},
   "outputs": [],
   "source": [
    "grib_name = 'oiv2mon.202012.grb'\n",
    "grib_data = pygrib.open(grib_name)"
   ]
  },
  {
   "cell_type": "code",
   "execution_count": 3,
   "id": "9b26b14d",
   "metadata": {},
   "outputs": [
    {
     "name": "stdout",
     "output_type": "stream",
     "text": [
      "1:Temperature:K (avgua):regular_ll:surface:level 0:fcst time 0 days (avgua):from 202012010000\n",
      "2:Ice cover (1=ice, 0=no ice):(0 - 1) (avgua):regular_ll:surface:level 0:fcst time 0 days (avgua):from 202012010000\n"
     ]
    }
   ],
   "source": [
    "for var in grib_data:\n",
    "    print(var)\n",
    "    # print(var.name)"
   ]
  },
  {
   "cell_type": "code",
   "execution_count": 4,
   "id": "8cd9ec11",
   "metadata": {},
   "outputs": [
    {
     "name": "stdout",
     "output_type": "stream",
     "text": [
      "<class 'pygrib._pygrib.gribmessage'>\n"
     ]
    }
   ],
   "source": [
    "sst_dset = grib_data.select(name=\"Ice cover (1=ice, 0=no ice)\")[0]\n",
    "grib_data.close()\n",
    "print(type(sst_dset))"
   ]
  },
  {
   "cell_type": "code",
   "execution_count": 5,
   "id": "26ecea3c",
   "metadata": {},
   "outputs": [],
   "source": [
    "sst = sst_dset.values"
   ]
  },
  {
   "cell_type": "code",
   "execution_count": 6,
   "id": "d2e53c16",
   "metadata": {},
   "outputs": [
    {
     "name": "stdout",
     "output_type": "stream",
     "text": [
      "<class 'numpy.ma.core.MaskedArray'>\n"
     ]
    }
   ],
   "source": [
    "print(type(sst))"
   ]
  },
  {
   "cell_type": "code",
   "execution_count": 7,
   "id": "ac77cf39",
   "metadata": {},
   "outputs": [
    {
     "name": "stdout",
     "output_type": "stream",
     "text": [
      "(180, 360)\n"
     ]
    }
   ],
   "source": [
    "print(sst.shape)"
   ]
  },
  {
   "cell_type": "code",
   "execution_count": 8,
   "id": "72c8a8d8",
   "metadata": {},
   "outputs": [],
   "source": [
    "lats, lons = sst_dset.latlons()"
   ]
  },
  {
   "cell_type": "code",
   "execution_count": 9,
   "id": "a18c6a91",
   "metadata": {},
   "outputs": [
    {
     "name": "stdout",
     "output_type": "stream",
     "text": [
      "[[ 89.5  89.5  89.5 ...  89.5  89.5  89.5]\n",
      " [ 88.5  88.5  88.5 ...  88.5  88.5  88.5]\n",
      " [ 87.5  87.5  87.5 ...  87.5  87.5  87.5]\n",
      " ...\n",
      " [-87.5 -87.5 -87.5 ... -87.5 -87.5 -87.5]\n",
      " [-88.5 -88.5 -88.5 ... -88.5 -88.5 -88.5]\n",
      " [-89.5 -89.5 -89.5 ... -89.5 -89.5 -89.5]]\n"
     ]
    }
   ],
   "source": [
    "print(lats)"
   ]
  },
  {
   "cell_type": "code",
   "execution_count": 10,
   "id": "5cf802ea",
   "metadata": {},
   "outputs": [
    {
     "name": "stdout",
     "output_type": "stream",
     "text": [
      "[[  0.5   1.5   2.5 ... 357.5 358.5 359.5]\n",
      " [  0.5   1.5   2.5 ... 357.5 358.5 359.5]\n",
      " [  0.5   1.5   2.5 ... 357.5 358.5 359.5]\n",
      " ...\n",
      " [  0.5   1.5   2.5 ... 357.5 358.5 359.5]\n",
      " [  0.5   1.5   2.5 ... 357.5 358.5 359.5]\n",
      " [  0.5   1.5   2.5 ... 357.5 358.5 359.5]]\n"
     ]
    }
   ],
   "source": [
    "print(lons)"
   ]
  },
  {
   "cell_type": "code",
   "execution_count": null,
   "id": "7ae3161e",
   "metadata": {},
   "outputs": [],
   "source": []
  }
 ],
 "metadata": {
  "kernelspec": {
   "display_name": "Python 3 (ipykernel)",
   "language": "python",
   "name": "python3"
  },
  "language_info": {
   "codemirror_mode": {
    "name": "ipython",
    "version": 3
   },
   "file_extension": ".py",
   "mimetype": "text/x-python",
   "name": "python",
   "nbconvert_exporter": "python",
   "pygments_lexer": "ipython3",
   "version": "3.7.3"
  }
 },
 "nbformat": 4,
 "nbformat_minor": 5
}
