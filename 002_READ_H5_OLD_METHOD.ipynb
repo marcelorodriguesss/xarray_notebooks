{
 "cells": [
  {
   "cell_type": "code",
   "execution_count": 1,
   "id": "eb8382de",
   "metadata": {},
   "outputs": [],
   "source": [
    "import h5py\n",
    "import numpy as np\n",
    "from matplotlib import pyplot as plt"
   ]
  },
  {
   "cell_type": "code",
   "execution_count": 2,
   "id": "81f33798",
   "metadata": {},
   "outputs": [],
   "source": [
    "np.set_printoptions(suppress=True)"
   ]
  },
  {
   "cell_type": "code",
   "execution_count": 3,
   "id": "c80564cf",
   "metadata": {},
   "outputs": [],
   "source": [
    "fname = 'prev-AS-2017-03-01-000000-g1.h5'  # RAMS6.2 pnt funceme"
   ]
  },
  {
   "cell_type": "code",
   "execution_count": 4,
   "id": "6a212017",
   "metadata": {},
   "outputs": [
    {
     "name": "stdout",
     "output_type": "stream",
     "text": [
      "<KeysViewHDF5 ['precip', 'sfclat', 'sfclon', 't_coords', 'x_coords', 'y_coords', 'z_coords']>\n"
     ]
    }
   ],
   "source": [
    "with h5py.File(fname, 'r') as dset:\n",
    "    print(dset.keys())\n",
    "    precip = dset['/precip'][:]\n",
    "    lon = dset['/x_coords'][:]\n",
    "    lat = dset['/y_coords'][:]"
   ]
  },
  {
   "cell_type": "code",
   "execution_count": 5,
   "id": "9c00cb43",
   "metadata": {},
   "outputs": [
    {
     "name": "stdout",
     "output_type": "stream",
     "text": [
      "<class 'numpy.ndarray'>\n"
     ]
    }
   ],
   "source": [
    "print(type(precip))"
   ]
  },
  {
   "cell_type": "code",
   "execution_count": 6,
   "id": "108fae06",
   "metadata": {},
   "outputs": [
    {
     "name": "stdout",
     "output_type": "stream",
     "text": [
      "(85, 115, 115)\n"
     ]
    }
   ],
   "source": [
    "print(precip.shape)"
   ]
  },
  {
   "cell_type": "code",
   "execution_count": 7,
   "id": "3bce0368",
   "metadata": {},
   "outputs": [
    {
     "name": "stdout",
     "output_type": "stream",
     "text": [
      "[-19.232994   -19.011925   -18.790741   -18.56945    -18.34805\n",
      " -18.126543   -17.904928   -17.683205   -17.461384   -17.23946\n",
      " -17.017433   -16.795313   -16.573093   -16.350782   -16.128376\n",
      " -15.905873   -15.683284   -15.460607   -15.237842   -15.014995\n",
      " -14.792059   -14.569043   -14.345946   -14.122773   -13.899521\n",
      " -13.676196   -13.452795   -13.229323   -13.00578    -12.782167\n",
      " -12.558489   -12.3347435  -12.110936   -11.887068   -11.663136\n",
      " -11.439148   -11.2151     -10.990999   -10.766847   -10.542641\n",
      " -10.318383   -10.094077    -9.869725    -9.645329    -9.42089\n",
      "  -9.196405    -8.971885    -8.747324    -8.522728    -8.298097\n",
      "  -8.073433    -7.8487363   -7.6240115   -7.3992586   -7.1744795\n",
      "  -6.9496746   -6.7248483   -6.500001    -6.275134    -6.05025\n",
      "  -5.8253493   -5.600435    -5.3755083   -5.150572    -4.9256253\n",
      "  -4.700672    -4.4757133   -4.250751    -4.025787    -3.8008223\n",
      "  -3.5758593   -3.3508997   -3.1259449   -2.9009972   -2.6760576\n",
      "  -2.4511282   -2.2262108   -2.0013072   -1.7764193   -1.5515478\n",
      "  -1.3266954   -1.101864    -0.8770547   -0.65226907  -0.42750925\n",
      "  -0.20277745   0.02192528   0.24659736   0.47123632   0.69584167\n",
      "   0.9204104    1.1449413    1.3694333    1.5938826    1.8182905\n",
      "   2.042653     2.2669694    2.4912376    2.7154565    2.939623\n",
      "   3.1637368    3.3877966    3.6117985    3.8357434    4.0596266\n",
      "   4.2834496    4.5072083    4.730903     4.9545307    5.17809\n",
      "   5.401581     5.624997     5.848342     6.0716114    6.2948046 ]\n"
     ]
    }
   ],
   "source": [
    "print(lat)"
   ]
  },
  {
   "cell_type": "code",
   "execution_count": 8,
   "id": "27a81ab5",
   "metadata": {},
   "outputs": [
    {
     "name": "stdout",
     "output_type": "stream",
     "text": [
      "[-51.852592 -51.62885  -51.405014 -51.181084 -50.957066 -50.732956\n",
      " -50.50876  -50.284477 -50.060112 -49.835663 -49.611137 -49.386528\n",
      " -49.161842 -48.937088 -48.712254 -48.487347 -48.262375 -48.037334\n",
      " -47.812218 -47.587048 -47.361816 -47.136517 -46.91116  -46.68574\n",
      " -46.460274 -46.23474  -46.00917  -45.78354  -45.557865 -45.332138\n",
      " -45.106365 -44.88055  -44.654697 -44.428806 -44.202866 -43.9769\n",
      " -43.750896 -43.524857 -43.29879  -43.072697 -42.846565 -42.620415\n",
      " -42.394245 -42.168045 -41.941833 -41.715595 -41.48935  -41.263077\n",
      " -41.0368   -40.81051  -40.58421  -40.357903 -40.131588 -39.90527\n",
      " -39.67895  -39.452637 -39.226315 -39.000004 -38.77369  -38.54739\n",
      " -38.321095 -38.09481  -37.868538 -37.642284 -37.416042 -37.18982\n",
      " -36.96362  -36.73744  -36.511276 -36.285145 -36.059036 -35.83296\n",
      " -35.606907 -35.380894 -35.15491  -34.928963 -34.703056 -34.47719\n",
      " -34.25136  -34.025578 -33.799835 -33.574142 -33.34849  -33.122902\n",
      " -32.897358 -32.671864 -32.44643  -32.221054 -31.995731 -31.77048\n",
      " -31.54528  -31.32015  -31.095081 -30.870085 -30.645157 -30.4203\n",
      " -30.195513 -29.970802 -29.74617  -29.521614 -29.29714  -29.072744\n",
      " -28.848434 -28.624207 -28.40007  -28.176018 -27.952055 -27.728186\n",
      " -27.50441  -27.28073  -27.05715  -26.833666 -26.610277 -26.386995\n",
      " -26.163816]\n"
     ]
    }
   ],
   "source": [
    "print(lon)"
   ]
  },
  {
   "cell_type": "code",
   "execution_count": 9,
   "id": "2fa5a6b3",
   "metadata": {},
   "outputs": [
    {
     "name": "stdout",
     "output_type": "stream",
     "text": [
      "[ 0.          0.00000001  0.00089963  0.00239949  0.00240602  0.00241509\n",
      "  0.00241517  0.00241518  0.00241524  0.00241579  0.00251944  0.03305269\n",
      "  0.20589563  0.43184012  0.63024235  0.80688995  0.9387326   1.0603952\n",
      "  1.1898377   1.3564502   1.5867574   1.8807311   2.2366948   2.6127682\n",
      "  3.0145667   3.413075    3.7956457   4.204663    4.635234    5.0729203\n",
      "  5.498076    5.9153194   6.320456    6.680502    6.9985657   7.29378\n",
      "  7.5451026   7.7488437   7.903474    8.035091    8.14727     8.243364\n",
      "  8.334204    8.426662    8.532042    8.661287    8.850026    9.080803\n",
      "  9.343766    9.69018    10.088941   10.555556   10.984908   11.4415865\n",
      " 11.929772   12.441713   12.969286   13.494749   14.010137   14.543846\n",
      " 15.033871   15.43893    15.837631   16.182209   16.519608   16.866962\n",
      " 17.228249   17.613544   18.026442   18.490156   18.997324   19.512728\n",
      " 20.030836   20.553276   21.063972   21.563133   22.047157   22.505445\n",
      " 22.92437    23.285133   23.596657   23.859974   24.094149   24.336302\n",
      " 24.554523  ]\n"
     ]
    }
   ],
   "source": [
    "print(precip[:, 56, 56])"
   ]
  },
  {
   "cell_type": "code",
   "execution_count": 10,
   "id": "c4102319",
   "metadata": {},
   "outputs": [
    {
     "data": {
      "text/plain": [
       "[<matplotlib.lines.Line2D at 0x7fd3abdffcc0>]"
      ]
     },
     "execution_count": 10,
     "metadata": {},
     "output_type": "execute_result"
    },
    {
     "data": {
      "image/png": "[encoded data removed]",
      "text/plain": [
       "<Figure size 432x288 with 1 Axes>"
      ]
     },
     "metadata": {
      "needs_background": "light"
     },
     "output_type": "display_data"
    }
   ],
   "source": [
    "plt.plot(precip[:, 30, 30])"
   ]
  },
  {
   "cell_type": "code",
   "execution_count": null,
   "id": "3036f2b3",
   "metadata": {},
   "outputs": [],
   "source": []
  }
 ],
 "metadata": {
  "kernelspec": {
   "display_name": "Python 3 (ipykernel)",
   "language": "python",
   "name": "python3"
  },
  "language_info": {
   "codemirror_mode": {
    "name": "ipython",
    "version": 3
   },
   "file_extension": ".py",
   "mimetype": "text/x-python",
   "name": "python",
   "nbconvert_exporter": "python",
   "pygments_lexer": "ipython3",
   "version": "3.7.3"
  }
 },
 "nbformat": 4,
 "nbformat_minor": 5
}
