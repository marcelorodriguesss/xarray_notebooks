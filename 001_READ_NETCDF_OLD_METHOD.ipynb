{
 "cells": [
  {
   "cell_type": "code",
   "execution_count": 1,
   "id": "e8650603",
   "metadata": {},
   "outputs": [],
   "source": [
    "import numpy as np\n",
    "from netCDF4 import Dataset"
   ]
  },
  {
   "cell_type": "code",
   "execution_count": 2,
   "id": "021ee883",
   "metadata": {},
   "outputs": [],
   "source": [
    "np.set_printoptions(suppress=True)"
   ]
  },
  {
   "cell_type": "code",
   "execution_count": 3,
   "id": "c69ae105",
   "metadata": {},
   "outputs": [],
   "source": [
    "nc_file = 'RSM97.PLEV.202103.DAILY.nc'\n",
    "nc_data = Dataset(nc_file, mode='r')"
   ]
  },
  {
   "cell_type": "code",
   "execution_count": 4,
   "id": "4f0a02df",
   "metadata": {},
   "outputs": [
    {
     "name": "stdout",
     "output_type": "stream",
     "text": [
      "<class 'netCDF4._netCDF4.Dataset'>\n",
      "root group (NETCDF3_CLASSIC data model, file format NETCDF3):\n",
      "    Conventions: COARDS\n",
      "    calendar: standard\n",
      "    comments: File\n",
      "    model: geos/das\n",
      "    center: gsfc\n",
      "    dimensions(sizes): time(31), longitude(109), latitude(72)\n",
      "    variables(dimensions): float64 time(time), float64 longitude(longitude), float64 latitude(latitude), float32 pcp(time, latitude, longitude), float32 pcpc(time, latitude, longitude)\n",
      "    groups: \n"
     ]
    }
   ],
   "source": [
    "print(nc_data)"
   ]
  },
  {
   "cell_type": "code",
   "execution_count": 5,
   "id": "9c725395",
   "metadata": {},
   "outputs": [
    {
     "name": "stdout",
     "output_type": "stream",
     "text": [
      "dict_keys(['time', 'longitude', 'latitude', 'pcp', 'pcpc'])\n"
     ]
    }
   ],
   "source": [
    "print(nc_data.variables.keys())"
   ]
  },
  {
   "cell_type": "code",
   "execution_count": 6,
   "id": "a1e8bf9e",
   "metadata": {},
   "outputs": [
    {
     "name": "stdout",
     "output_type": "stream",
     "text": [
      "dict_keys(['time', 'longitude', 'latitude'])\n"
     ]
    }
   ],
   "source": [
    "print(nc_data.dimensions.keys())"
   ]
  },
  {
   "cell_type": "code",
   "execution_count": 7,
   "id": "4fe0373c",
   "metadata": {},
   "outputs": [
    {
     "name": "stdout",
     "output_type": "stream",
     "text": [
      "<class 'netCDF4._netCDF4.Variable'>\n",
      "float32 pcp(time, latitude, longitude)\n",
      "    comments: Unknown1 variable comment\n",
      "    long_name: rainfall\n",
      "    units: \n",
      "    grid_name: grid01\n",
      "    grid_type: generic\n",
      "    level_description: Earth surface\n",
      "    time_statistic: instantaneous\n",
      "    missing_value: 1000000000000000.0\n",
      "unlimited dimensions: time\n",
      "current shape = (31, 72, 109)\n",
      "filling on, default _FillValue of 9.969209968386869e+36 used\n"
     ]
    }
   ],
   "source": [
    "print(nc_data.variables['pcp'])"
   ]
  },
  {
   "cell_type": "code",
   "execution_count": 8,
   "id": "a4c10f2c",
   "metadata": {},
   "outputs": [],
   "source": [
    "lons = nc_data.variables['longitude'][:]\n",
    "lats = nc_data.variables['latitude'][:]\n",
    "pcp = nc_data.variables['pcp'][:]\n",
    "# pcp_units = nc_data.variables['pcp'].units"
   ]
  },
  {
   "cell_type": "code",
   "execution_count": 9,
   "id": "c63c9890",
   "metadata": {},
   "outputs": [],
   "source": [
    "nc_data.close()"
   ]
  },
  {
   "cell_type": "code",
   "execution_count": 10,
   "id": "2d7a3f12",
   "metadata": {},
   "outputs": [
    {
     "name": "stdout",
     "output_type": "stream",
     "text": [
      "<class 'numpy.ma.core.MaskedArray'>\n"
     ]
    }
   ],
   "source": [
    "print(type(pcp))"
   ]
  },
  {
   "cell_type": "code",
   "execution_count": 11,
   "id": "140c4f21",
   "metadata": {},
   "outputs": [
    {
     "name": "stdout",
     "output_type": "stream",
     "text": [
      "(31, 72, 109)\n"
     ]
    }
   ],
   "source": [
    "print(pcp.shape)"
   ]
  },
  {
   "cell_type": "code",
   "execution_count": 12,
   "id": "fbf575d2",
   "metadata": {},
   "outputs": [
    {
     "name": "stdout",
     "output_type": "stream",
     "text": [
      "[ 0.          0.          0.0106453   1.5342263   0.          0.\n",
      "  0.          0.          0.          0.          0.          0.\n",
      "  0.          0.          0.          0.          0.          0.\n",
      "  0.          0.          0.          0.          2.4642596   6.7309217\n",
      "  0.00077028 14.7335      6.915093    5.1562147   1.1022972   0.\n",
      "  0.05205143]\n"
     ]
    }
   ],
   "source": [
    "print(pcp[:, 30, 30])"
   ]
  },
  {
   "cell_type": "code",
   "execution_count": 13,
   "id": "f2ccfb05",
   "metadata": {},
   "outputs": [
    {
     "name": "stdout",
     "output_type": "stream",
     "text": [
      "[-55.637 -55.097 -54.557 -54.017 -53.477 -52.937 -52.397 -51.857 -51.317\n",
      " -50.777 -50.237 -49.697 -49.157 -48.617 -48.077 -47.537 -46.997 -46.457\n",
      " -45.917 -45.377 -44.837 -44.297 -43.757 -43.217 -42.677 -42.137 -41.597\n",
      " -41.057 -40.517 -39.977 -39.437 -38.897 -38.357 -37.817 -37.277 -36.737\n",
      " -36.197 -35.657 -35.117 -34.577 -34.037 -33.497 -32.957 -32.417 -31.877\n",
      " -31.337 -30.797 -30.257 -29.717 -29.177 -28.637 -28.097 -27.557 -27.017\n",
      " -26.477 -25.937 -25.397 -24.857 -24.317 -23.777 -23.237 -22.697 -22.157\n",
      " -21.617 -21.077 -20.537 -19.997 -19.457 -18.917 -18.377 -17.837 -17.297\n",
      " -16.757 -16.217 -15.677 -15.137 -14.597 -14.057 -13.517 -12.977 -12.437\n",
      " -11.897 -11.357 -10.817 -10.277  -9.737  -9.197  -8.657  -8.117  -7.577\n",
      "  -7.037  -6.497  -5.957  -5.417  -4.877  -4.337  -3.797  -3.257  -2.717\n",
      "  -2.177  -1.637  -1.097  -0.557  -0.017   0.523   1.063   1.603   2.143\n",
      "   2.683]\n"
     ]
    }
   ],
   "source": [
    "print(lons)"
   ]
  },
  {
   "cell_type": "code",
   "execution_count": 14,
   "id": "02b77661",
   "metadata": {},
   "outputs": [
    {
     "name": "stdout",
     "output_type": "stream",
     "text": [
      "[-21.397 -20.893 -20.387 -19.88  -19.371 -18.861 -18.349 -17.835 -17.32\n",
      " -16.803 -16.285 -15.766 -15.246 -14.724 -14.2   -13.676 -13.15  -12.624\n",
      " -12.096 -11.567 -11.037 -10.506  -9.975  -9.442  -8.909  -8.375  -7.84\n",
      "  -7.304  -6.768  -6.231  -5.694  -5.156  -4.617  -4.079  -3.539  -3.\n",
      "  -2.46   -1.92   -1.38   -0.84   -0.3     0.241   0.781   1.321   1.861\n",
      "   2.401   2.941   3.48    4.019   4.558   5.097   5.635   6.172   6.709\n",
      "   7.245   7.781   8.316   8.85    9.384   9.916  10.448  10.979  11.509\n",
      "  12.038  12.566  13.093  13.618  14.143  14.666  15.188  15.709  16.229]\n"
     ]
    }
   ],
   "source": [
    "print(lats)"
   ]
  },
  {
   "cell_type": "code",
   "execution_count": null,
   "id": "0d6e5ba0",
   "metadata": {},
   "outputs": [],
   "source": []
  }
 ],
 "metadata": {
  "kernelspec": {
   "display_name": "Python 3 (ipykernel)",
   "language": "python",
   "name": "python3"
  },
  "language_info": {
   "codemirror_mode": {
    "name": "ipython",
    "version": 3
   },
   "file_extension": ".py",
   "mimetype": "text/x-python",
   "name": "python",
   "nbconvert_exporter": "python",
   "pygments_lexer": "ipython3",
   "version": "3.7.3"
  }
 },
 "nbformat": 4,
 "nbformat_minor": 5
}
